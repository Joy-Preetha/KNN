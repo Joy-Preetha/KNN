{
 "cells": [
  {
   "cell_type": "code",
   "execution_count": 1,
   "metadata": {},
   "outputs": [
    {
     "name": "stdout",
     "output_type": "stream",
     "text": [
      "0: setosa, 1: versicolor, 2: verginica\n",
      "predicted_values :  [1 0 2 2 2 0 2 1 2 1 2 2 0 1 2 0 2 0 0 1 1 1 2 0 1 2 1 1 2 1 2 1 0 1 1 1 2\n",
      " 2 1 2 1 0 0 0 0]\n",
      "accuracy :  91.11111111111111\n"
     ]
    }
   ],
   "source": [
    "#Loading Iris Dataset\n",
    "from sklearn import datasets\n",
    "iris=datasets.load_iris() \n",
    "x=(iris.data).tolist()\n",
    "y=(iris.target).tolist()\n",
    "\n",
    "#Splitting train and test dataset\n",
    "from sklearn.model_selection import train_test_split\n",
    "x_train,x_test,y_train,y_test=train_test_split(x,y,test_size=.3) \n",
    "\n",
    "#Scaling\n",
    "from sklearn.preprocessing import StandardScaler\n",
    "scaler = StandardScaler()\n",
    "scaler.fit(x_train)\n",
    "\n",
    "x_train = scaler.transform(x_train)\n",
    "x_test = scaler.transform(x_test)\n",
    "\n",
    "#Training and prediction\n",
    "from sklearn.neighbors import KNeighborsClassifier\n",
    "classifier = KNeighborsClassifier(n_neighbors=5)\n",
    "classifier.fit(x_train, y_train)\n",
    "y_pred = classifier.predict(x_test)\n",
    "\n",
    "#Accuracy\n",
    "mode=[i for i in range(len(y_pred)) if y_pred[i]==y_test[i]]  \n",
    "accuracy=(len(mode)/len(y_test))*100\n",
    "print('0: setosa, 1: versicolor, 2: verginica')\n",
    "print('predicted_values : ',y_pred)\n",
    "print('accuracy : ',accuracy)"
   ]
  },
  {
   "cell_type": "code",
   "execution_count": null,
   "metadata": {},
   "outputs": [],
   "source": []
  }
 ],
 "metadata": {
  "kernelspec": {
   "display_name": "Python 3",
   "language": "python",
   "name": "python3"
  },
  "language_info": {
   "codemirror_mode": {
    "name": "ipython",
    "version": 3
   },
   "file_extension": ".py",
   "mimetype": "text/x-python",
   "name": "python",
   "nbconvert_exporter": "python",
   "pygments_lexer": "ipython3",
   "version": "3.7.3"
  }
 },
 "nbformat": 4,
 "nbformat_minor": 2
}
