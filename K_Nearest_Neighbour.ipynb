{
 "cells": [
  {
   "cell_type": "code",
   "execution_count": 1,
   "metadata": {},
   "outputs": [
    {
     "data": {
      "text/plain": [
       "97.77777777777777"
      ]
     },
     "execution_count": 1,
     "metadata": {},
     "output_type": "execute_result"
    }
   ],
   "source": [
    "import pandas as pd\n",
    "from sklearn import datasets\n",
    "from sklearn.model_selection import train_test_split\n",
    "import math\n",
    "\n",
    "iris=datasets.load_iris()\n",
    "\n",
    "x=(iris.data).tolist()\n",
    "y=(iris.target).tolist()\n",
    "\n",
    "x_train,x_test,y_train,y_test=train_test_split(x,y,test_size=.3)\n",
    "\n",
    "prediction=[]\n",
    "k=3\n",
    "for test_xrow in x_test:\n",
    "    dist_col=[]\n",
    "    neighbours=[]\n",
    "    for train_xrow in x_train:\n",
    "        distance = 0\n",
    "        for column in range(len(train_xrow)):\n",
    "            diff = (train_xrow[column] - test_xrow[column])\n",
    "            diff = diff*diff\n",
    "            distance = distance + diff\n",
    "        distance = math.sqrt(distance)\n",
    "        dist_col.append((train_xrow,y_train[x_train.index(train_xrow)],distance))\n",
    "        dist_col.sort(key=lambda tup : tup[2])\n",
    "    for i in range(k):\n",
    "        neighbours.append(dist_col[i][1])\n",
    "    predict=max(set(neighbours), key=neighbours.count)\n",
    "    prediction.append(predict)\n",
    "    \n",
    "count=[i for i in range(len(prediction)) if prediction[i]==y_test[i]]\n",
    "accuracy=(len(count)/len(y_test))*100\n",
    "accuracy"
   ]
  },
  {
   "cell_type": "code",
   "execution_count": 2,
   "metadata": {},
   "outputs": [],
   "source": []
  }
 ],
 "metadata": {
  "kernelspec": {
   "display_name": "Python 3",
   "language": "python",
   "name": "python3"
  },
  "language_info": {
   "codemirror_mode": {
    "name": "ipython",
    "version": 3
   },
   "file_extension": ".py",
   "mimetype": "text/x-python",
   "name": "python",
   "nbconvert_exporter": "python",
   "pygments_lexer": "ipython3",
   "version": "3.7.3"
  }
 },
 "nbformat": 4,
 "nbformat_minor": 2
}
